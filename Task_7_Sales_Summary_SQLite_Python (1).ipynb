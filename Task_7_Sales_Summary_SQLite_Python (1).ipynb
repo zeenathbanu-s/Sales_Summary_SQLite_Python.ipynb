{
  "nbformat": 4,
  "nbformat_minor": 0,
  "metadata": {
    "colab": {
      "provenance": []
    },
    "kernelspec": {
      "name": "python3",
      "display_name": "Python 3"
    },
    "language_info": {
      "name": "python"
    }
  },
  "cells": [
    {
      "cell_type": "code",
      "execution_count": null,
      "metadata": {
        "colab": {
          "base_uri": "https://localhost:8080/"
        },
        "id": "BFD68AW-iuYy",
        "outputId": "7d40ea0e-7682-48a2-a8f8-996278a5d16c"
      },
      "outputs": [
        {
          "output_type": "stream",
          "name": "stdout",
          "text": [
            "Database created and sample data inserted!\n"
          ]
        }
      ],
      "source": [
        "import sqlite3\n",
        "\n",
        "# Step 1: Connect to SQLite database (creates if not exists)\n",
        "conn = sqlite3.connect(\"sales_data.db\")\n",
        "cursor = conn.cursor()\n",
        "\n",
        "# Step 2: Create a sales table\n",
        "cursor.execute(\"\"\"\n",
        "CREATE TABLE IF NOT EXISTS sales (\n",
        "    id INTEGER PRIMARY KEY AUTOINCREMENT,\n",
        "    product TEXT,\n",
        "    quantity INTEGER,\n",
        "    price REAL\n",
        ")\n",
        "\"\"\")\n",
        "\n",
        "# Step 3: Sample sales data to insert\n",
        "sales_data = [\n",
        "    ('Apple', 10, 0.50),\n",
        "    ('Banana', 20, 0.30),\n",
        "    ('Orange', 15, 0.40),\n",
        "    ('Apple', 5, 0.50),\n",
        "    ('Banana', 10, 0.30),\n",
        "    ('Orange', 5, 0.40)\n",
        "]\n",
        "\n",
        "# Step 4: Insert the data\n",
        "cursor.executemany(\"INSERT INTO sales (product, quantity, price) VALUES (?, ?, ?)\", sales_data)\n",
        "\n",
        "# Step 5: Save changes and close connection\n",
        "conn.commit()\n",
        "conn.close()\n",
        "\n",
        "print(\"Database created and sample data inserted!\")\n"
      ]
    },
    {
      "cell_type": "code",
      "source": [
        "import sqlite3\n",
        "import pandas as pd\n",
        "\n",
        "# Step 1: Reconnect to the database\n",
        "conn = sqlite3.connect(\"sales_data.db\")\n",
        "\n",
        "# Step 2: Write SQL to get sales summary\n",
        "query = \"\"\"\n",
        "SELECT\n",
        "    product,\n",
        "    SUM(quantity) AS total_qty,\n",
        "    SUM(quantity * price) AS revenue\n",
        "FROM sales\n",
        "GROUP BY product\n",
        "\"\"\"\n",
        "\n",
        "# Step 3: Execute and load results into a DataFrame\n",
        "df = pd.read_sql_query(query, conn)\n",
        "\n",
        "# Step 4: Close connection\n",
        "conn.close()\n",
        "\n",
        "# Step 5: Print DataFrame\n",
        "print(\"📊 Sales Summary Table:\\n\")\n",
        "print(df)\n"
      ],
      "metadata": {
        "colab": {
          "base_uri": "https://localhost:8080/"
        },
        "id": "zWkz_39YkHtQ",
        "outputId": "fb5bd107-7857-4277-9a55-4a6c99d932a9"
      },
      "execution_count": 2,
      "outputs": [
        {
          "output_type": "stream",
          "name": "stdout",
          "text": [
            "📊 Sales Summary Table:\n",
            "\n",
            "  product  total_qty  revenue\n",
            "0   Apple         15      7.5\n",
            "1  Banana         30      9.0\n",
            "2  Orange         20      8.0\n"
          ]
        }
      ]
    },
    {
      "cell_type": "code",
      "source": [
        "import matplotlib.pyplot as plt\n",
        "\n",
        "# Plot the bar chart\n",
        "ax = df.plot(kind='bar', x='product', y='revenue', color='lightcoral', legend=False)\n",
        "\n",
        "# Customize chart with title and labels\n",
        "plt.title(\"Revenue by Product\")\n",
        "plt.xlabel(\"Product\")\n",
        "plt.ylabel(\"Revenue ($)\")\n",
        "plt.tight_layout()  # Adjust layout to avoid clipping\n",
        "\n",
        "# Now save the chart as an image\n",
        "plt.savefig(\"sales_chart.png\")  # Save image\n",
        "\n",
        "# Optional: If you want to download it from Colab\n",
        "from google.colab import files\n",
        "files.download(\"sales_chart.png\")\n"
      ],
      "metadata": {
        "colab": {
          "base_uri": "https://localhost:8080/",
          "height": 487
        },
        "id": "z2TMNtxvrN55",
        "outputId": "d9b18c96-8ab6-45f5-ff9b-f26b76bb470e"
      },
      "execution_count": 18,
      "outputs": [
        {
          "output_type": "display_data",
          "data": {
            "text/plain": [
              "<IPython.core.display.Javascript object>"
            ],
            "application/javascript": [
              "\n",
              "    async function download(id, filename, size) {\n",
              "      if (!google.colab.kernel.accessAllowed) {\n",
              "        return;\n",
              "      }\n",
              "      const div = document.createElement('div');\n",
              "      const label = document.createElement('label');\n",
              "      label.textContent = `Downloading \"${filename}\": `;\n",
              "      div.appendChild(label);\n",
              "      const progress = document.createElement('progress');\n",
              "      progress.max = size;\n",
              "      div.appendChild(progress);\n",
              "      document.body.appendChild(div);\n",
              "\n",
              "      const buffers = [];\n",
              "      let downloaded = 0;\n",
              "\n",
              "      const channel = await google.colab.kernel.comms.open(id);\n",
              "      // Send a message to notify the kernel that we're ready.\n",
              "      channel.send({})\n",
              "\n",
              "      for await (const message of channel.messages) {\n",
              "        // Send a message to notify the kernel that we're ready.\n",
              "        channel.send({})\n",
              "        if (message.buffers) {\n",
              "          for (const buffer of message.buffers) {\n",
              "            buffers.push(buffer);\n",
              "            downloaded += buffer.byteLength;\n",
              "            progress.value = downloaded;\n",
              "          }\n",
              "        }\n",
              "      }\n",
              "      const blob = new Blob(buffers, {type: 'application/binary'});\n",
              "      const a = document.createElement('a');\n",
              "      a.href = window.URL.createObjectURL(blob);\n",
              "      a.download = filename;\n",
              "      div.appendChild(a);\n",
              "      a.click();\n",
              "      div.remove();\n",
              "    }\n",
              "  "
            ]
          },
          "metadata": {}
        },
        {
          "output_type": "display_data",
          "data": {
            "text/plain": [
              "<IPython.core.display.Javascript object>"
            ],
            "application/javascript": [
              "download(\"download_3351270e-a5b1-4c9b-8267-cfa32db4edd9\", \"sales_chart.png\", 14416)"
            ]
          },
          "metadata": {}
        },
        {
          "output_type": "display_data",
          "data": {
            "text/plain": [
              "<Figure size 640x480 with 1 Axes>"
            ],
            "image/png": "[encoded data removed]"
          },
          "metadata": {}
        }
      ]
    },
    {
      "cell_type": "code",
      "source": [
        "from google.colab import files\n",
        "files.download(\"sales_data.db\")\n"
      ],
      "metadata": {
        "colab": {
          "base_uri": "https://localhost:8080/",
          "height": 17
        },
        "id": "Jp-2tci3kwPq",
        "outputId": "0f4a9a08-6ef5-4e3d-eafd-793407c07f1a"
      },
      "execution_count": 5,
      "outputs": [
        {
          "output_type": "display_data",
          "data": {
            "text/plain": [
              "<IPython.core.display.Javascript object>"
            ],
            "application/javascript": [
              "\n",
              "    async function download(id, filename, size) {\n",
              "      if (!google.colab.kernel.accessAllowed) {\n",
              "        return;\n",
              "      }\n",
              "      const div = document.createElement('div');\n",
              "      const label = document.createElement('label');\n",
              "      label.textContent = `Downloading \"${filename}\": `;\n",
              "      div.appendChild(label);\n",
              "      const progress = document.createElement('progress');\n",
              "      progress.max = size;\n",
              "      div.appendChild(progress);\n",
              "      document.body.appendChild(div);\n",
              "\n",
              "      const buffers = [];\n",
              "      let downloaded = 0;\n",
              "\n",
              "      const channel = await google.colab.kernel.comms.open(id);\n",
              "      // Send a message to notify the kernel that we're ready.\n",
              "      channel.send({})\n",
              "\n",
              "      for await (const message of channel.messages) {\n",
              "        // Send a message to notify the kernel that we're ready.\n",
              "        channel.send({})\n",
              "        if (message.buffers) {\n",
              "          for (const buffer of message.buffers) {\n",
              "            buffers.push(buffer);\n",
              "            downloaded += buffer.byteLength;\n",
              "            progress.value = downloaded;\n",
              "          }\n",
              "        }\n",
              "      }\n",
              "      const blob = new Blob(buffers, {type: 'application/binary'});\n",
              "      const a = document.createElement('a');\n",
              "      a.href = window.URL.createObjectURL(blob);\n",
              "      a.download = filename;\n",
              "      div.appendChild(a);\n",
              "      a.click();\n",
              "      div.remove();\n",
              "    }\n",
              "  "
            ]
          },
          "metadata": {}
        },
        {
          "output_type": "display_data",
          "data": {
            "text/plain": [
              "<IPython.core.display.Javascript object>"
            ],
            "application/javascript": [
              "download(\"download_1cb8b7ca-adf9-4a49-9d11-0de9d752b5de\", \"sales_data.db\", 12288)"
            ]
          },
          "metadata": {}
        }
      ]
    }
  ]
}